{
 "cells": [
  {
   "cell_type": "markdown",
   "metadata": {},
   "source": [
    "# NumPy"
   ]
  },
  {
   "cell_type": "code",
   "execution_count": 1,
   "metadata": {},
   "outputs": [
    {
     "data": {
      "text/plain": [
       "array([0., 0., 0., 0., 0.])"
      ]
     },
     "execution_count": 1,
     "metadata": {},
     "output_type": "execute_result"
    }
   ],
   "source": [
    "import numpy as np\n",
    "\n",
    "zero_vector = np.zeros(5)\n",
    "zero_vector"
   ]
  },
  {
   "cell_type": "code",
   "execution_count": 2,
   "metadata": {},
   "outputs": [
    {
     "data": {
      "text/plain": [
       "array([[0., 0., 0.],\n",
       "       [0., 0., 0.],\n",
       "       [0., 0., 0.],\n",
       "       [0., 0., 0.],\n",
       "       [0., 0., 0.]])"
      ]
     },
     "execution_count": 2,
     "metadata": {},
     "output_type": "execute_result"
    }
   ],
   "source": [
    "zero_matrix = np.zeros((5,3)) # tuple(row,column)\n",
    "zero_matrix"
   ]
  },
  {
   "cell_type": "code",
   "execution_count": 3,
   "metadata": {},
   "outputs": [
    {
     "data": {
      "text/plain": [
       "array([1, 2, 3])"
      ]
     },
     "execution_count": 3,
     "metadata": {},
     "output_type": "execute_result"
    }
   ],
   "source": [
    "x = np.array([1,2,3])\n",
    "x"
   ]
  },
  {
   "cell_type": "code",
   "execution_count": 4,
   "metadata": {},
   "outputs": [
    {
     "data": {
      "text/plain": [
       "array([3, 4, 5])"
      ]
     },
     "execution_count": 4,
     "metadata": {},
     "output_type": "execute_result"
    }
   ],
   "source": [
    "y = np.array([3,4,5])\n",
    "y"
   ]
  },
  {
   "cell_type": "code",
   "execution_count": 5,
   "metadata": {},
   "outputs": [
    {
     "data": {
      "text/plain": [
       "array([[1, 2, 3],\n",
       "       [4, 5, 6],\n",
       "       [7, 8, 9]])"
      ]
     },
     "execution_count": 5,
     "metadata": {},
     "output_type": "execute_result"
    }
   ],
   "source": [
    "Z = np.array([[1,2,3],[4,5,6],[7,8,9]])\n",
    "Z"
   ]
  },
  {
   "cell_type": "code",
   "execution_count": 6,
   "metadata": {},
   "outputs": [
    {
     "data": {
      "text/plain": [
       "array([[1, 4, 7],\n",
       "       [2, 5, 8],\n",
       "       [3, 6, 9]])"
      ]
     },
     "execution_count": 6,
     "metadata": {},
     "output_type": "execute_result"
    }
   ],
   "source": [
    "Z.transpose()"
   ]
  },
  {
   "cell_type": "code",
   "execution_count": 7,
   "metadata": {},
   "outputs": [
    {
     "data": {
      "text/plain": [
       "array([5, 7, 9])"
      ]
     },
     "execution_count": 7,
     "metadata": {},
     "output_type": "execute_result"
    }
   ],
   "source": [
    "x = np.array([1,2,3])\n",
    "y = np.array([4,5,6])\n",
    "z = x + y\n",
    "z"
   ]
  },
  {
   "cell_type": "code",
   "execution_count": 8,
   "metadata": {},
   "outputs": [
    {
     "data": {
      "text/plain": [
       "array([2, 5])"
      ]
     },
     "execution_count": 8,
     "metadata": {},
     "output_type": "execute_result"
    }
   ],
   "source": [
    "X = np.array([[1,2,3],[4,5,6]])\n",
    "Y = np.array([[7,8,9],[4,5,3]])\n",
    "\n",
    "X[:,1]"
   ]
  },
  {
   "cell_type": "code",
   "execution_count": 9,
   "metadata": {},
   "outputs": [
    {
     "data": {
      "text/plain": [
       "array([10, 10])"
      ]
     },
     "execution_count": 9,
     "metadata": {},
     "output_type": "execute_result"
    }
   ],
   "source": [
    "X[:,1] + Y[:,1]"
   ]
  },
  {
   "cell_type": "code",
   "execution_count": 10,
   "metadata": {},
   "outputs": [
    {
     "data": {
      "text/plain": [
       "array([4, 5, 6])"
      ]
     },
     "execution_count": 10,
     "metadata": {},
     "output_type": "execute_result"
    }
   ],
   "source": [
    "X[1,:]"
   ]
  },
  {
   "cell_type": "code",
   "execution_count": 11,
   "metadata": {},
   "outputs": [
    {
     "data": {
      "text/plain": [
       "array([ 8, 10,  9])"
      ]
     },
     "execution_count": 11,
     "metadata": {},
     "output_type": "execute_result"
    }
   ],
   "source": [
    "X[1,:]+Y[1,:]"
   ]
  },
  {
   "cell_type": "code",
   "execution_count": 12,
   "metadata": {},
   "outputs": [
    {
     "data": {
      "text/plain": [
       "array([1, 2, 3])"
      ]
     },
     "execution_count": 12,
     "metadata": {},
     "output_type": "execute_result"
    }
   ],
   "source": [
    "X[0]"
   ]
  },
  {
   "cell_type": "code",
   "execution_count": 13,
   "metadata": {},
   "outputs": [
    {
     "data": {
      "text/plain": [
       "5"
      ]
     },
     "execution_count": 13,
     "metadata": {},
     "output_type": "execute_result"
    }
   ],
   "source": [
    "X[1][1]"
   ]
  },
  {
   "cell_type": "markdown",
   "metadata": {},
   "source": [
    "##  Indexing NumPy Arrays"
   ]
  },
  {
   "cell_type": "code",
   "execution_count": 14,
   "metadata": {},
   "outputs": [
    {
     "data": {
      "text/plain": [
       "array([4, 6, 9, 5, 7])"
      ]
     },
     "execution_count": 14,
     "metadata": {},
     "output_type": "execute_result"
    }
   ],
   "source": [
    "z1 = np.array([2,4,7,3,5])\n",
    "z2 = z1 + 2\n",
    "z2"
   ]
  },
  {
   "cell_type": "markdown",
   "metadata": {},
   "source": [
    "2 is added to all the elements of z1."
   ]
  },
  {
   "cell_type": "code",
   "execution_count": 15,
   "metadata": {},
   "outputs": [
    {
     "data": {
      "text/plain": [
       "array([4, 9, 5])"
      ]
     },
     "execution_count": 15,
     "metadata": {},
     "output_type": "execute_result"
    }
   ],
   "source": [
    "index = [0,2,3]\n",
    "z2[index]"
   ]
  },
  {
   "cell_type": "markdown",
   "metadata": {},
   "source": [
    "here index list is working as index."
   ]
  },
  {
   "cell_type": "code",
   "execution_count": 16,
   "metadata": {},
   "outputs": [
    {
     "data": {
      "text/plain": [
       "array([ True, False, False, False, False])"
      ]
     },
     "execution_count": 16,
     "metadata": {},
     "output_type": "execute_result"
    }
   ],
   "source": [
    "z2 < 5"
   ]
  },
  {
   "cell_type": "markdown",
   "metadata": {},
   "source": [
    "This boolan array also can be used for indexing."
   ]
  },
  {
   "cell_type": "code",
   "execution_count": 17,
   "metadata": {},
   "outputs": [
    {
     "data": {
      "text/plain": [
       "array([4])"
      ]
     },
     "execution_count": 17,
     "metadata": {},
     "output_type": "execute_result"
    }
   ],
   "source": [
    "z2[z2 < 5]"
   ]
  },
  {
   "cell_type": "markdown",
   "metadata": {},
   "source": [
    "As one element in z2 is greater than 5."
   ]
  },
  {
   "cell_type": "markdown",
   "metadata": {},
   "source": [
    "## Slice"
   ]
  },
  {
   "cell_type": "code",
   "execution_count": 18,
   "metadata": {},
   "outputs": [
    {
     "data": {
      "text/plain": [
       "array([1, 2, 3])"
      ]
     },
     "execution_count": 18,
     "metadata": {},
     "output_type": "execute_result"
    }
   ],
   "source": [
    "z = np.array([1,2,3,4,5,6,7,8,9])\n",
    "\n",
    "x = z[:3]\n",
    "x"
   ]
  },
  {
   "cell_type": "code",
   "execution_count": 19,
   "metadata": {},
   "outputs": [
    {
     "data": {
      "text/plain": [
       "array([ 1, 10,  3])"
      ]
     },
     "execution_count": 19,
     "metadata": {},
     "output_type": "execute_result"
    }
   ],
   "source": [
    "x[1] = 10\n",
    "x"
   ]
  },
  {
   "cell_type": "code",
   "execution_count": 20,
   "metadata": {},
   "outputs": [
    {
     "data": {
      "text/plain": [
       "array([ 1, 10,  3,  4,  5,  6,  7,  8,  9])"
      ]
     },
     "execution_count": 20,
     "metadata": {},
     "output_type": "execute_result"
    }
   ],
   "source": [
    "z"
   ]
  },
  {
   "cell_type": "markdown",
   "metadata": {},
   "source": [
    "Both array is modified."
   ]
  },
  {
   "cell_type": "code",
   "execution_count": 21,
   "metadata": {},
   "outputs": [
    {
     "data": {
      "text/plain": [
       "array([0, 1, 2])"
      ]
     },
     "execution_count": 21,
     "metadata": {},
     "output_type": "execute_result"
    }
   ],
   "source": [
    "z = np.array([1,2,3,4,5,6,7,8,9])\n",
    "index = np.array([0,1,2])\n",
    "index"
   ]
  },
  {
   "cell_type": "code",
   "execution_count": 22,
   "metadata": {},
   "outputs": [
    {
     "data": {
      "text/plain": [
       "array([1, 2, 3])"
      ]
     },
     "execution_count": 22,
     "metadata": {},
     "output_type": "execute_result"
    }
   ],
   "source": [
    "x = z[index]\n",
    "x"
   ]
  },
  {
   "cell_type": "code",
   "execution_count": 23,
   "metadata": {},
   "outputs": [
    {
     "data": {
      "text/plain": [
       "array([ 1, 10,  3])"
      ]
     },
     "execution_count": 23,
     "metadata": {},
     "output_type": "execute_result"
    }
   ],
   "source": [
    "x[1] = 10\n",
    "x"
   ]
  },
  {
   "cell_type": "code",
   "execution_count": 24,
   "metadata": {},
   "outputs": [
    {
     "data": {
      "text/plain": [
       "array([1, 2, 3, 4, 5, 6, 7, 8, 9])"
      ]
     },
     "execution_count": 24,
     "metadata": {},
     "output_type": "execute_result"
    }
   ],
   "source": [
    "z"
   ]
  },
  {
   "cell_type": "markdown",
   "metadata": {},
   "source": [
    "Now it is not modified."
   ]
  },
  {
   "cell_type": "markdown",
   "metadata": {},
   "source": [
    "##  Examining NumPy Arrays"
   ]
  },
  {
   "cell_type": "markdown",
   "metadata": {},
   "source": [
    "Linearly spaced array."
   ]
  },
  {
   "cell_type": "code",
   "execution_count": 25,
   "metadata": {},
   "outputs": [
    {
     "data": {
      "text/plain": [
       "array([  0.        ,  11.11111111,  22.22222222,  33.33333333,\n",
       "        44.44444444,  55.55555556,  66.66666667,  77.77777778,\n",
       "        88.88888889, 100.        ])"
      ]
     },
     "execution_count": 25,
     "metadata": {},
     "output_type": "execute_result"
    }
   ],
   "source": [
    "np.linspace(0,100,10)"
   ]
  },
  {
   "cell_type": "markdown",
   "metadata": {},
   "source": [
    "Logarithmically spaced array."
   ]
  },
  {
   "cell_type": "code",
   "execution_count": 26,
   "metadata": {},
   "outputs": [
    {
     "data": {
      "text/plain": [
       "array([ 10.        ,  12.91549665,  16.68100537,  21.5443469 ,\n",
       "        27.82559402,  35.93813664,  46.41588834,  59.94842503,\n",
       "        77.42636827, 100.        ])"
      ]
     },
     "execution_count": 26,
     "metadata": {},
     "output_type": "execute_result"
    }
   ],
   "source": [
    "np.logspace(1,2,10)"
   ]
  },
  {
   "cell_type": "markdown",
   "metadata": {},
   "source": [
    "Logarithmically spaced array. from log base 10 250 to log base 10 500"
   ]
  },
  {
   "cell_type": "code",
   "execution_count": 27,
   "metadata": {},
   "outputs": [
    {
     "data": {
      "text/plain": [
       "array([250.        , 270.01493472, 291.63225989, 314.98026247,\n",
       "       340.19750004, 367.43362307, 396.85026299, 428.62199143,\n",
       "       462.93735614, 500.        ])"
      ]
     },
     "execution_count": 27,
     "metadata": {},
     "output_type": "execute_result"
    }
   ],
   "source": [
    "np.logspace(np.log10(250),np.log10(500),10)"
   ]
  },
  {
   "cell_type": "markdown",
   "metadata": {},
   "source": [
    "## shape"
   ]
  },
  {
   "cell_type": "code",
   "execution_count": 28,
   "metadata": {},
   "outputs": [
    {
     "data": {
      "text/plain": [
       "(2, 3)"
      ]
     },
     "execution_count": 28,
     "metadata": {},
     "output_type": "execute_result"
    }
   ],
   "source": [
    "X = np.array([[1,2,3],[4,5,6]])\n",
    "X.shape"
   ]
  },
  {
   "cell_type": "code",
   "execution_count": 29,
   "metadata": {},
   "outputs": [
    {
     "data": {
      "text/plain": [
       "6"
      ]
     },
     "execution_count": 29,
     "metadata": {},
     "output_type": "execute_result"
    }
   ],
   "source": [
    "X.size"
   ]
  },
  {
   "cell_type": "markdown",
   "metadata": {},
   "source": [
    "## ANY and ALL"
   ]
  },
  {
   "cell_type": "code",
   "execution_count": 30,
   "metadata": {},
   "outputs": [
    {
     "data": {
      "text/plain": [
       "array([0.2747615 , 0.97268537, 0.92034879, 0.59018881, 0.71447749,\n",
       "       0.15306843, 0.46236918, 0.30815553, 0.31133372, 0.58597643])"
      ]
     },
     "execution_count": 30,
     "metadata": {},
     "output_type": "execute_result"
    }
   ],
   "source": [
    "np.random.random(10)"
   ]
  },
  {
   "cell_type": "code",
   "execution_count": 31,
   "metadata": {},
   "outputs": [
    {
     "data": {
      "text/plain": [
       "False"
      ]
     },
     "execution_count": 31,
     "metadata": {},
     "output_type": "execute_result"
    }
   ],
   "source": [
    "x = np.random.random(10)\n",
    "\n",
    "np.any(x > 0.9) # checking any of the element in x is greater than 0.9"
   ]
  },
  {
   "cell_type": "code",
   "execution_count": 32,
   "metadata": {},
   "outputs": [
    {
     "data": {
      "text/plain": [
       "array([0.68212594, 0.81567886, 0.03228878, 0.71865172, 0.75104812,\n",
       "       0.09513883, 0.82135867, 0.2039703 , 0.79746769, 0.2472412 ])"
      ]
     },
     "execution_count": 32,
     "metadata": {},
     "output_type": "execute_result"
    }
   ],
   "source": [
    "x "
   ]
  },
  {
   "cell_type": "code",
   "execution_count": 33,
   "metadata": {},
   "outputs": [
    {
     "data": {
      "text/plain": [
       "False"
      ]
     },
     "execution_count": 33,
     "metadata": {},
     "output_type": "execute_result"
    }
   ],
   "source": [
    "np.all(x > 0.9) # checking all of the element in x is greater than 0.9"
   ]
  },
  {
   "cell_type": "code",
   "execution_count": 34,
   "metadata": {},
   "outputs": [
    {
     "data": {
      "text/plain": [
       "array([0.68212594, 0.81567886, 0.03228878, 0.71865172, 0.75104812,\n",
       "       0.09513883, 0.82135867, 0.2039703 , 0.79746769, 0.2472412 ])"
      ]
     },
     "execution_count": 34,
     "metadata": {},
     "output_type": "execute_result"
    }
   ],
   "source": [
    "x"
   ]
  },
  {
   "cell_type": "code",
   "execution_count": 35,
   "metadata": {},
   "outputs": [
    {
     "data": {
      "text/plain": [
       "False"
      ]
     },
     "execution_count": 35,
     "metadata": {},
     "output_type": "execute_result"
    }
   ],
   "source": [
    "np.all(x > 0.1)"
   ]
  },
  {
   "cell_type": "markdown",
   "metadata": {},
   "source": [
    "# Matplotlib and Pyplot"
   ]
  },
  {
   "cell_type": "code",
   "execution_count": 36,
   "metadata": {},
   "outputs": [
    {
     "data": {
      "text/plain": [
       "[<matplotlib.lines.Line2D at 0x7f6218f00810>]"
      ]
     },
     "execution_count": 36,
     "metadata": {},
     "output_type": "execute_result"
    },
    {
     "data": {
      "image/png": "[encoded data removed]",
      "text/plain": [
       "<Figure size 432x288 with 1 Axes>"
      ]
     },
     "metadata": {
      "needs_background": "light"
     },
     "output_type": "display_data"
    }
   ],
   "source": [
    "import matplotlib.pyplot as plt\n",
    "\n",
    "plt.plot([0,1,2,4,10])"
   ]
  },
  {
   "cell_type": "code",
   "execution_count": 37,
   "metadata": {},
   "outputs": [
    {
     "data": {
      "image/png": "[encoded data removed]",
      "text/plain": [
       "<Figure size 432x288 with 1 Axes>"
      ]
     },
     "metadata": {
      "needs_background": "light"
     },
     "output_type": "display_data"
    }
   ],
   "source": [
    "plt.plot([0,1,2,4,10]);"
   ]
  },
  {
   "cell_type": "code",
   "execution_count": 38,
   "metadata": {},
   "outputs": [],
   "source": [
    "#plt.show() #for python shell"
   ]
  },
  {
   "cell_type": "code",
   "execution_count": 39,
   "metadata": {},
   "outputs": [],
   "source": [
    "x = np.linspace(0,10,20)\n",
    "y = x**2"
   ]
  },
  {
   "cell_type": "code",
   "execution_count": 40,
   "metadata": {},
   "outputs": [
    {
     "data": {
      "text/plain": [
       "array([ 0.        ,  0.52631579,  1.05263158,  1.57894737,  2.10526316,\n",
       "        2.63157895,  3.15789474,  3.68421053,  4.21052632,  4.73684211,\n",
       "        5.26315789,  5.78947368,  6.31578947,  6.84210526,  7.36842105,\n",
       "        7.89473684,  8.42105263,  8.94736842,  9.47368421, 10.        ])"
      ]
     },
     "execution_count": 40,
     "metadata": {},
     "output_type": "execute_result"
    }
   ],
   "source": [
    "x"
   ]
  },
  {
   "cell_type": "code",
   "execution_count": 41,
   "metadata": {},
   "outputs": [
    {
     "data": {
      "text/plain": [
       "array([  0.        ,   0.27700831,   1.10803324,   2.49307479,\n",
       "         4.43213296,   6.92520776,   9.97229917,  13.5734072 ,\n",
       "        17.72853186,  22.43767313,  27.70083102,  33.51800554,\n",
       "        39.88919668,  46.81440443,  54.29362881,  62.32686981,\n",
       "        70.91412742,  80.05540166,  89.75069252, 100.        ])"
      ]
     },
     "execution_count": 41,
     "metadata": {},
     "output_type": "execute_result"
    }
   ],
   "source": [
    "y"
   ]
  },
  {
   "cell_type": "code",
   "execution_count": 42,
   "metadata": {},
   "outputs": [
    {
     "data": {
      "image/png": "[encoded data removed]",
      "text/plain": [
       "<Figure size 432x288 with 1 Axes>"
      ]
     },
     "metadata": {
      "needs_background": "light"
     },
     "output_type": "display_data"
    }
   ],
   "source": [
    "plt.plot(x,y);"
   ]
  },
  {
   "cell_type": "code",
   "execution_count": 43,
   "metadata": {},
   "outputs": [],
   "source": [
    "y1 = x**2\n",
    "y2 = x**1.5"
   ]
  },
  {
   "cell_type": "code",
   "execution_count": 44,
   "metadata": {},
   "outputs": [
    {
     "data": {
      "text/plain": [
       "[<matplotlib.lines.Line2D at 0x7f6218d96210>]"
      ]
     },
     "execution_count": 44,
     "metadata": {},
     "output_type": "execute_result"
    },
    {
     "data": {
      "image/png": "[encoded data removed]",
      "text/plain": [
       "<Figure size 432x288 with 1 Axes>"
      ]
     },
     "metadata": {
      "needs_background": "light"
     },
     "output_type": "display_data"
    }
   ],
   "source": [
    "plt.plot(x,y1, \"bo-\")"
   ]
  },
  {
   "cell_type": "code",
   "execution_count": 45,
   "metadata": {},
   "outputs": [
    {
     "data": {
      "text/plain": [
       "[<matplotlib.lines.Line2D at 0x7f6218cfd710>]"
      ]
     },
     "execution_count": 45,
     "metadata": {},
     "output_type": "execute_result"
    },
    {
     "data": {
      "image/png": "[encoded data removed]",
      "text/plain": [
       "<Figure size 432x288 with 1 Axes>"
      ]
     },
     "metadata": {
      "needs_background": "light"
     },
     "output_type": "display_data"
    }
   ],
   "source": [
    "plt.plot(x,y2,\"bo-\",linewidth=2,markersize=4)"
   ]
  },
  {
   "cell_type": "code",
   "execution_count": 15,
   "metadata": {},
   "outputs": [
    {
     "data": {
      "text/plain": [
       "[<matplotlib.lines.Line2D at 0x7fea5e276150>]"
      ]
     },
     "execution_count": 15,
     "metadata": {},
     "output_type": "execute_result"
    },
    {
     "data": {
      "image/png": "[encoded data removed]",
      "text/plain": [
       "<Figure size 432x288 with 1 Axes>"
      ]
     },
     "metadata": {
      "needs_background": "light"
     },
     "output_type": "display_data"
    }
   ],
   "source": [
    "plt.plot(x,y2,\"bo-\",linewidth=2,markersize=20)"
   ]
  },
  {
   "cell_type": "code",
   "execution_count": 46,
   "metadata": {},
   "outputs": [
    {
     "data": {
      "text/plain": [
       "[<matplotlib.lines.Line2D at 0x7f6218ce3ed0>]"
      ]
     },
     "execution_count": 46,
     "metadata": {},
     "output_type": "execute_result"
    },
    {
     "data": {
      "image/png": "[encoded data removed]",
      "text/plain": [
       "<Figure size 432x288 with 1 Axes>"
      ]
     },
     "metadata": {
      "needs_background": "light"
     },
     "output_type": "display_data"
    }
   ],
   "source": [
    "plt.plot(x,y1,\"gs-\",linewidth=2,markersize=8)"
   ]
  },
  {
   "cell_type": "code",
   "execution_count": 17,
   "metadata": {},
   "outputs": [
    {
     "data": {
      "text/plain": [
       "[<matplotlib.lines.Line2D at 0x7fea5e4731d0>]"
      ]
     },
     "execution_count": 17,
     "metadata": {},
     "output_type": "execute_result"
    },
    {
     "data": {
      "image/png": "[encoded data removed]",
      "text/plain": [
       "<Figure size 432x288 with 1 Axes>"
      ]
     },
     "metadata": {
      "needs_background": "light"
     },
     "output_type": "display_data"
    }
   ],
   "source": [
    "plt.plot([0,1,2],[0,1,4],\"rd-\")"
   ]
  },
  {
   "cell_type": "markdown",
   "metadata": {},
   "source": [
    "## Customizing Your Plots"
   ]
  },
  {
   "cell_type": "code",
   "execution_count": 67,
   "metadata": {},
   "outputs": [
    {
     "data": {
      "image/png": "[encoded data removed]",
      "text/plain": [
       "<Figure size 432x288 with 1 Axes>"
      ]
     },
     "metadata": {
      "needs_background": "light"
     },
     "output_type": "display_data"
    }
   ],
   "source": [
    "plt.plot(x,y1,\"go-\",linewidth=2,markersize=4,label = 'First')\n",
    "plt.plot(x,y2,\"bo-\",linewidth=2,markersize=4,label = 'Second')\n",
    "plt.xlabel(\"$X$\")\n",
    "plt.ylabel(\"$Y$\")\n",
    "\n",
    "# plt.axis([xmin,xmax,ymin,ymax])\n",
    "plt.axis([-0.5,10.5,-5,105])\n",
    "plt.legend(loc='upper left')\n",
    "plt.savefig(\"myplot.pdf\")\n",
    "plt.savefig(\"myplot.png\")"
   ]
  },
  {
   "cell_type": "markdown",
   "metadata": {},
   "source": [
    "## Plotting Using Logarithmic Axes"
   ]
  },
  {
   "cell_type": "code",
   "execution_count": 71,
   "metadata": {},
   "outputs": [
    {
     "name": "stderr",
     "output_type": "stream",
     "text": [
      "/home/codebox/anaconda3/lib/python3.7/site-packages/ipykernel_launcher.py:7: UserWarning: Attempted to set non-positive left xlim on a log-scaled axis.\n",
      "Invalid limit will be ignored.\n",
      "  import sys\n",
      "/home/codebox/anaconda3/lib/python3.7/site-packages/ipykernel_launcher.py:7: UserWarning: Attempted to set non-positive bottom ylim on a log-scaled axis.\n",
      "Invalid limit will be ignored.\n",
      "  import sys\n"
     ]
    },
    {
     "data": {
      "image/png": "[encoded data removed]",
      "text/plain": [
       "<Figure size 432x288 with 1 Axes>"
      ]
     },
     "metadata": {
      "needs_background": "light"
     },
     "output_type": "display_data"
    }
   ],
   "source": [
    "plt.loglog(x,y1,\"go-\",linewidth=2,markersize=4,label = 'First')\n",
    "plt.loglog(x,y2,\"bo-\",linewidth=2,markersize=4,label = 'Second')\n",
    "plt.xlabel(\"$X$\")\n",
    "plt.ylabel(\"$Y$\")\n",
    "\n",
    "# plt.axis([xmin,xmax,ymin,ymax])\n",
    "plt.axis([-0.5,10.5,-5,105])\n",
    "plt.legend(loc='upper left')\n",
    "plt.savefig(\"mylogplot.pdf\")\n",
    "plt.savefig(\"mylogplot.png\")"
   ]
  },
  {
   "cell_type": "code",
   "execution_count": 72,
   "metadata": {},
   "outputs": [
    {
     "name": "stderr",
     "output_type": "stream",
     "text": [
      "/home/codebox/anaconda3/lib/python3.7/site-packages/ipykernel_launcher.py:10: UserWarning: Attempted to set non-positive left xlim on a log-scaled axis.\n",
      "Invalid limit will be ignored.\n",
      "  # Remove the CWD from sys.path while we load stuff.\n",
      "/home/codebox/anaconda3/lib/python3.7/site-packages/ipykernel_launcher.py:10: UserWarning: Attempted to set non-positive bottom ylim on a log-scaled axis.\n",
      "Invalid limit will be ignored.\n",
      "  # Remove the CWD from sys.path while we load stuff.\n"
     ]
    },
    {
     "data": {
      "image/png": "[encoded data removed]",
      "text/plain": [
       "<Figure size 432x288 with 1 Axes>"
      ]
     },
     "metadata": {
      "needs_background": "light"
     },
     "output_type": "display_data"
    }
   ],
   "source": [
    "x = np.logspace(-1,1,40)\n",
    "y1 = x**2\n",
    "y2 = x**1.5\n",
    "plt.loglog(x,y1,\"go-\",linewidth=2,markersize=4,label = 'First')\n",
    "plt.loglog(x,y2,\"bo-\",linewidth=2,markersize=4,label = 'Second')\n",
    "plt.xlabel(\"$X$\")\n",
    "plt.ylabel(\"$Y$\")\n",
    "\n",
    "# plt.axis([xmin,xmax,ymin,ymax])\n",
    "plt.axis([-0.5,10.5,-5,105])\n",
    "plt.legend(loc='upper left')\n",
    "plt.savefig(\"mylogspaceplot.pdf\")\n",
    "plt.savefig(\"mylogspaceplot.png\")"
   ]
  },
  {
   "cell_type": "markdown",
   "metadata": {},
   "source": [
    "## Generating Histograms"
   ]
  },
  {
   "cell_type": "code",
   "execution_count": 74,
   "metadata": {},
   "outputs": [
    {
     "data": {
      "text/plain": [
       "array([ 1.47904098e+00,  1.26138367e+00,  6.30358724e-01, -5.03934917e-01,\n",
       "        2.93222153e-01, -6.65908077e-01, -6.70402081e-03, -1.14424728e+00,\n",
       "       -1.31249059e+00, -5.12541606e-01, -9.75383387e-01,  2.42509260e-01,\n",
       "       -7.56964333e-01,  1.06440340e+00, -5.49542003e-01, -1.16225162e-01,\n",
       "       -1.18760876e+00, -4.03368634e-01,  6.42410666e-02, -5.87717626e-01,\n",
       "        5.84038189e-02,  1.52696135e+00, -2.92103814e+00, -5.60038871e-01,\n",
       "        9.50039955e-01,  2.42542549e-01,  1.16649153e+00,  6.31722621e-01,\n",
       "       -1.44329289e+00, -5.30413584e-01,  1.70087614e+00,  4.14088176e-01,\n",
       "       -1.85353823e+00,  1.15481500e+00,  4.77061833e-01,  6.31611864e-01,\n",
       "        6.67161560e-01,  1.97271698e+00, -2.53958154e-01, -1.72516959e+00,\n",
       "       -9.44222021e-01,  4.05845321e-01,  3.53985320e-02,  1.65108975e-01,\n",
       "        8.35570253e-01, -9.20998549e-01,  1.08503452e+00,  8.90264896e-01,\n",
       "       -2.68667140e-01, -6.11076998e-01,  3.03072648e+00,  1.34345759e+00,\n",
       "        3.05905183e-01, -5.85099047e-01,  6.30884716e-01,  1.89983434e-01,\n",
       "        1.72572742e+00,  4.45613159e-01,  3.45645968e-01, -1.07281081e+00,\n",
       "       -1.49301529e+00,  9.42191932e-01,  6.34390627e-01, -5.86910097e-01,\n",
       "       -4.35857531e-01, -1.81090607e-01, -1.31929153e-01,  1.28180934e+00,\n",
       "        6.93250931e-01, -8.77482948e-01, -1.66325081e+00,  1.83775168e+00,\n",
       "        7.71134596e-02,  2.11513979e+00, -2.31420753e-01, -2.87767311e-01,\n",
       "       -4.48133216e-01, -6.31732869e-01, -8.60765131e-01,  1.72546488e+00,\n",
       "        7.85847202e-01,  6.39953703e-02,  8.09991115e-01, -1.88261047e+00,\n",
       "        8.96619441e-01, -9.08289587e-01,  1.82352039e+00,  2.55121544e-01,\n",
       "        3.56902117e-02,  1.53231041e+00, -2.67642381e+00,  2.13661022e+00,\n",
       "       -8.27350110e-03,  1.88631806e+00, -2.75761066e-01,  1.50163099e+00,\n",
       "        3.32863582e-01,  1.76008223e-01,  3.93122743e-01, -7.05903265e-01,\n",
       "       -3.44803580e-01, -4.99816062e-01,  6.93467865e-01,  1.78528153e-01,\n",
       "        7.10579423e-01, -2.25164346e+00, -7.26434966e-01,  4.65800023e-01,\n",
       "       -1.10750621e+00,  4.39222500e-01, -1.22857200e+00, -7.15835054e-01,\n",
       "        6.14224502e-01, -1.33698351e+00, -6.42769663e-01,  1.78268892e+00,\n",
       "        6.79283109e-01, -1.55721219e+00,  1.01576229e+00, -1.84343891e+00,\n",
       "        3.14841792e-01,  1.88902710e+00,  1.74749113e+00,  1.25275054e+00,\n",
       "       -1.04112148e+00, -2.90211901e-01, -1.72997826e+00,  8.46820835e-01,\n",
       "        1.34845910e+00, -1.56176082e-01,  1.88427143e+00, -5.45723737e-01,\n",
       "        4.29161227e-01, -5.87710906e-01, -2.52156415e+00,  3.98167936e-03,\n",
       "        1.73681078e+00, -5.69933068e-02,  5.63803482e-02,  3.34332521e-04,\n",
       "       -1.02124579e+00,  2.57485215e-01, -2.88929715e-01, -5.80321587e-01,\n",
       "        1.68645381e-01,  6.66960578e-01, -2.26426187e-01,  6.21997473e-01,\n",
       "       -1.33409812e+00, -9.17646097e-01, -2.08566378e-01, -1.33126378e+00,\n",
       "       -2.17397954e+00, -8.44801864e-01,  1.84135176e+00,  8.19458692e-01,\n",
       "       -2.59406262e-02,  7.88668214e-01, -2.64717091e-01,  6.82738844e-01,\n",
       "        3.45677407e-01, -2.58245811e+00,  6.71140761e-01,  2.05896079e+00,\n",
       "        9.56529282e-01,  2.13215332e-01,  5.53558657e-01,  9.79848983e-01,\n",
       "        1.48535937e+00, -9.95220958e-01,  4.68398455e-01,  9.02847148e-01,\n",
       "        6.14257713e-02,  3.82502638e-01, -9.12202372e-01,  1.24096581e+00,\n",
       "       -8.06125639e-01,  1.48693094e+00, -2.14913674e-01, -1.25810198e+00,\n",
       "       -1.17320250e+00, -1.72176413e-01, -2.48629465e+00,  4.81249579e-01,\n",
       "       -3.97261004e-01,  2.25305561e+00, -2.63001675e-01, -5.14860064e-01,\n",
       "        6.58107570e-01, -3.45018252e+00, -7.18162959e-01, -3.28841030e-01,\n",
       "        4.13449568e-01,  5.72417930e-01,  3.31677182e-03,  4.24090344e-01,\n",
       "        2.20740481e-01, -6.62740320e-02, -6.35503263e-02,  1.46409853e+00,\n",
       "        1.69947489e-01,  9.20869273e-01, -9.82343048e-01,  1.31601970e-01,\n",
       "       -1.45797371e+00, -4.58952301e-01, -1.37452203e-01,  4.46523428e-01,\n",
       "       -1.46443866e+00,  2.29072411e-01,  9.79116257e-01,  2.29396690e-01,\n",
       "       -4.22469626e-01, -9.59179005e-02,  1.61675935e+00, -7.13331098e-01,\n",
       "        2.27983477e+00, -4.03025800e-01,  9.25252252e-01, -3.56526717e-02,\n",
       "        1.30783923e+00, -7.48850816e-02,  1.56610257e+00, -2.12606482e+00,\n",
       "        1.72302501e+00,  8.47366118e-01, -1.68355505e+00, -2.29235195e+00,\n",
       "        3.68750795e-01,  4.13749955e-01, -1.31067889e+00, -1.80265246e-01,\n",
       "       -1.14315133e+00,  1.44247505e+00,  1.24971008e+00,  8.44179005e-01,\n",
       "        2.05299233e+00, -1.39597800e-01,  5.42556778e-01, -8.34483897e-01,\n",
       "        3.16526175e-01,  8.27855510e-01,  3.51163199e-01,  4.65695918e-01,\n",
       "        2.91564843e-01,  3.75123608e-02, -4.16328768e-01, -9.20910982e-01,\n",
       "       -3.91532740e-01,  2.41478442e+00, -4.17598157e-01, -3.27206999e-01,\n",
       "       -8.83642912e-01,  6.95333801e-01, -1.04261054e+00,  2.21445178e+00,\n",
       "       -3.48254915e-01,  2.49317625e+00,  8.63536907e-01,  1.42142055e-01,\n",
       "        1.16141546e+00, -7.41669144e-02,  1.79765955e+00,  1.07871840e-01,\n",
       "       -9.24624368e-01,  9.91570673e-01, -2.75705624e-01, -6.22256632e-01,\n",
       "       -1.60070945e-01, -1.44877871e-01,  7.56701343e-01,  2.91773100e-01,\n",
       "       -1.04426196e+00,  1.44916461e+00, -1.15740550e+00, -1.37408608e+00,\n",
       "        2.15935958e-01, -2.60704445e-01, -5.60574129e-01,  1.79323132e-01,\n",
       "       -1.21742349e+00,  5.53752523e-01,  3.78114094e-01, -1.17468976e+00,\n",
       "        6.60031894e-01,  9.52855312e-01,  2.83599929e-01,  1.22784350e+00,\n",
       "        3.21072702e-01, -4.39909818e-02,  1.10937335e+00, -1.52142939e+00,\n",
       "       -1.68927901e-01,  4.77101119e-01, -1.97313742e+00, -7.59992137e-01,\n",
       "        8.57601107e-01, -3.59161490e-02, -1.74464321e+00,  2.20161205e-01,\n",
       "        1.37980803e+00,  6.54650938e-01,  2.42551560e-01,  6.45523586e-01,\n",
       "        4.09138382e-01, -1.15244805e+00, -4.04804918e-01,  1.66224034e+00,\n",
       "        4.63827717e-02, -7.22749276e-01,  7.15657663e-01, -8.05111144e-02,\n",
       "       -6.58440207e-01, -8.92542409e-01, -7.78786017e-01, -1.27133257e+00,\n",
       "        7.50247948e-01,  1.10620723e+00,  1.18115607e+00,  9.78351944e-01,\n",
       "       -1.88929180e+00, -1.25967949e+00, -9.26454165e-01,  1.14445574e+00,\n",
       "       -6.68317727e-01, -2.71010488e+00,  1.68301091e-01, -1.18534150e+00,\n",
       "        1.03569395e+00,  2.57525044e-01, -1.13350082e+00, -7.24017414e-01,\n",
       "        1.04611438e+00,  5.84818269e-02,  1.27147902e+00,  1.89182977e+00,\n",
       "        2.27465102e+00,  1.14212525e-01, -7.57746464e-01, -1.05367876e+00,\n",
       "       -6.67237990e-01,  1.05565516e+00,  1.36010281e+00,  1.62254835e+00,\n",
       "       -5.76534334e-01,  6.92793272e-01, -1.01281588e+00,  2.01725969e+00,\n",
       "        3.01744529e-01, -6.27086427e-01,  6.01299309e-01, -8.00126008e-02,\n",
       "       -1.56700130e+00,  1.59328544e-01, -4.44312535e-01, -9.53813472e-01,\n",
       "       -9.43677644e-01, -1.48193425e+00, -1.01921931e+00,  3.94587568e-01,\n",
       "        1.60814258e+00,  1.08431081e+00, -5.64215234e-01, -7.86448442e-01,\n",
       "       -2.67882472e-01,  8.42503543e-01,  6.39415961e-01,  7.81127646e-01,\n",
       "        1.71477588e-01,  7.72428496e-01,  8.23370295e-02,  2.02654199e+00,\n",
       "       -4.30664344e-01, -1.85688857e-01, -4.52408774e-03, -1.45854616e-03,\n",
       "       -7.87108393e-01, -1.03670400e+00, -6.70159170e-01,  3.40081581e-01,\n",
       "       -1.46473482e+00,  1.09020595e+00,  1.73793784e+00,  3.32619337e-01,\n",
       "        1.74511630e-01,  7.05066333e-01,  5.49942898e-01,  7.55112290e-01,\n",
       "        1.99107919e+00,  6.09611747e-01, -3.17385656e-01,  9.40316462e-01,\n",
       "       -8.00905044e-01, -1.02141032e+00,  2.31504825e+00, -1.95889250e-01,\n",
       "        2.24975546e-01, -1.28247808e+00, -1.67320823e+00, -1.19259263e+00,\n",
       "        1.56522943e-01,  1.07684032e+00,  2.71251430e-01,  6.12060927e-01,\n",
       "       -2.03972503e-01,  1.34352592e+00, -1.03108249e+00, -4.35496350e-01,\n",
       "        4.24359192e-01,  1.03376329e+00, -5.29038045e-01,  5.77692662e-01,\n",
       "       -1.75431447e+00,  1.16028131e+00,  1.42761061e+00,  5.03966518e-01,\n",
       "       -1.02157089e-01,  3.06239639e-01, -4.43704740e-01,  1.03341851e+00,\n",
       "        8.39851806e-01,  3.99994730e-02, -4.87766700e-01,  3.20424765e-01,\n",
       "        1.60275015e+00, -8.36362798e-02, -5.50911824e-01,  8.28039619e-01,\n",
       "       -1.78432691e+00, -4.73516854e-01,  3.48547276e-01, -2.45680592e-01,\n",
       "       -4.18722618e-01, -1.18841184e-01, -5.66189441e-02, -7.52879806e-01,\n",
       "        1.28579127e+00, -7.40542307e-01,  2.33550721e-01, -8.65946786e-01,\n",
       "        2.98273993e-01, -1.15647302e+00,  1.08065379e-01,  3.83089908e-01,\n",
       "       -7.47146620e-01,  4.42035974e-01,  1.85099444e-01,  5.01507852e-01,\n",
       "       -1.12356963e-01, -8.57434284e-01,  4.24265146e-01, -1.34334513e+00,\n",
       "       -3.00342431e-01, -1.18312018e+00, -2.24200283e-01,  3.62496094e-01,\n",
       "        9.13279309e-01,  6.15071214e-01, -3.94229557e-01, -1.70437856e+00,\n",
       "        2.81226027e-01,  1.84051345e-01,  6.64281882e-01,  1.01845910e+00,\n",
       "       -2.17105466e+00, -9.14020097e-01,  6.57380992e-01,  1.68390556e-01,\n",
       "        2.16092245e-02,  4.72658792e-01, -4.25373447e-01, -1.17883557e+00,\n",
       "        1.38294177e+00,  1.73901079e+00, -4.09583660e-01,  5.04157766e-01,\n",
       "       -9.05182312e-02,  5.60412470e-01, -3.18312696e-01, -1.08284557e+00,\n",
       "        1.12951397e+00, -3.87757020e-01,  7.42049328e-01,  5.61624784e-01,\n",
       "       -1.26232140e+00, -8.19739277e-01, -2.41587885e-01,  7.00813370e-01,\n",
       "        1.88812424e-01,  1.29773316e+00, -1.64589495e+00, -3.61484957e-01,\n",
       "        1.94373944e-01, -1.16923476e+00, -5.16419674e-01,  1.41946066e+00,\n",
       "        4.61046495e-01,  4.62153661e-01,  3.42255776e-01,  1.16752535e-01,\n",
       "        1.31750687e+00, -1.96054098e-01,  1.05449105e+00, -1.71391164e+00,\n",
       "        3.42723974e-01,  5.39671174e-01,  3.68911467e-01, -4.25675202e-01,\n",
       "       -4.97446793e-01, -1.02265837e+00, -1.29380269e-01,  1.00987828e-01,\n",
       "       -2.53244471e-01, -2.04888572e+00, -1.64935487e+00,  2.72773422e-01,\n",
       "       -7.39133983e-01,  5.83696123e-01,  4.10806384e-01,  1.03465568e+00,\n",
       "       -4.18472121e-01, -2.93383634e-01, -1.30975088e-01,  1.19135705e+00,\n",
       "       -1.23134115e+00, -3.67775791e-01,  9.78212825e-01,  2.13346785e-01,\n",
       "        8.15379270e-01,  3.62972714e-01,  1.81538981e+00,  1.25585006e+00,\n",
       "       -2.55474251e+00,  4.95409948e-01,  1.36070980e+00,  4.26611306e-01,\n",
       "       -2.55291024e-01,  2.67844534e-01,  2.72705085e-01,  1.24871478e+00,\n",
       "        2.74459833e+00,  6.73506066e-01,  8.21637714e-01, -3.03450133e-01,\n",
       "       -3.11283003e-02, -3.21393498e-01,  6.23334979e-01, -2.04142914e+00,\n",
       "        1.51641674e-02,  3.14933615e-01, -4.57856768e-01,  2.28103218e+00,\n",
       "       -1.27583822e+00,  1.77095560e+00, -2.89717459e-01,  5.08506697e-01,\n",
       "        1.59865124e+00,  9.83585837e-01,  3.31079978e-01,  3.31392283e-01,\n",
       "       -6.33523977e-01,  1.36451737e+00, -4.31833032e-01,  1.38920417e+00,\n",
       "        2.02091501e+00, -2.05626391e+00, -2.18252675e-02, -1.73825163e+00,\n",
       "       -9.80842803e-01,  1.13847699e+00, -8.22843083e-01,  7.53477071e-01,\n",
       "       -8.57097177e-01,  1.28206076e+00,  6.86584837e-01,  1.90971669e+00,\n",
       "       -3.62701925e-02, -7.68688929e-01, -2.13089653e+00,  7.23602012e-03,\n",
       "       -5.35519862e-01,  4.22009955e-01,  4.61909091e-01, -1.06863658e+00,\n",
       "       -1.29335195e+00, -1.51218511e+00, -2.80721149e-01,  1.12229422e+00,\n",
       "        6.88723207e-01,  1.94731596e-02, -1.43479570e+00,  1.48707466e+00,\n",
       "        1.37314508e+00,  3.55449735e-01, -1.02885114e+00,  3.69870604e-01,\n",
       "        1.35333689e+00,  1.08806111e+00,  1.34449061e+00, -7.88183678e-01,\n",
       "        6.91432492e-01,  1.79118124e-01, -1.57979556e+00,  1.05348311e+00,\n",
       "        2.65894475e-01,  6.65539952e-01,  1.86922359e+00, -4.08219120e-01,\n",
       "       -1.38100414e+00, -7.11652661e-01,  3.21502308e-02, -1.05217241e+00,\n",
       "       -4.68831971e-01, -2.16266524e-01,  6.01769573e-01,  8.72525090e-01,\n",
       "       -3.78091308e-01,  2.79850407e-01,  3.86462813e-02,  1.35995578e-01,\n",
       "       -4.06644413e-01,  8.95316291e-01, -1.53952435e-01,  5.49427507e-01,\n",
       "        8.15454375e-01, -7.95330954e-01,  1.07032609e+00, -1.00072700e+00,\n",
       "        2.27971354e+00,  3.77933404e-01,  8.65574908e-01, -3.18935085e+00,\n",
       "       -3.60553020e-01,  5.54075819e-01, -1.16674696e+00, -1.53045584e+00,\n",
       "        1.24281132e+00,  4.32016086e-01,  8.42661298e-01,  9.20677452e-01,\n",
       "        9.32678184e-01, -7.16039952e-01, -3.78997090e-01,  9.46898078e-01,\n",
       "       -8.29446449e-01,  1.38811073e+00,  7.63969506e-01,  1.59770365e+00,\n",
       "       -5.84019342e-01,  1.76206162e+00,  2.75307922e-01,  1.35502511e+00,\n",
       "       -7.36473092e-02, -1.57776551e-01,  6.23083912e-01, -3.27374325e-01,\n",
       "        2.52938011e+00, -6.91234979e-01,  1.50329887e+00, -5.77738226e-01,\n",
       "        2.94418972e-01,  7.31507939e-01,  2.45991694e-01,  3.25432548e-01,\n",
       "       -1.01447659e+00, -7.55005313e-02,  2.84296204e-01,  7.73949700e-01,\n",
       "       -3.14402975e-02, -6.87843752e-01,  4.17977630e-01, -1.05920615e+00,\n",
       "        1.84779888e+00, -9.71955496e-01, -1.68249087e+00,  3.74994173e+00,\n",
       "        7.17696012e-01,  2.71409005e-01,  2.43875889e-01, -1.03026690e-01,\n",
       "        1.83547777e+00, -1.06075436e+00,  8.86698370e-01, -8.25850238e-01,\n",
       "       -1.06317261e+00,  2.73519763e-01,  1.23047773e+00,  2.24947958e+00,\n",
       "        1.10376678e+00, -3.68583050e-01,  1.53359237e+00, -4.19792745e-01,\n",
       "        1.74781924e+00, -2.10006903e+00, -2.39361798e-01, -6.37442699e-01,\n",
       "        1.57913497e-01,  2.27175814e+00, -1.16797774e+00, -1.93331432e+00,\n",
       "       -1.20336647e+00, -1.94874323e-01, -1.33775082e+00, -2.49813911e-01,\n",
       "        1.48873035e+00,  1.03167587e-01,  3.55868178e-01, -6.08043883e-01,\n",
       "       -2.09165089e-01, -8.01007220e-01, -5.66750305e-01,  5.64143877e-01,\n",
       "        1.28889515e+00, -1.23389228e-01, -7.05206695e-02,  1.56260016e+00,\n",
       "        9.25324835e-01,  5.86982559e-01, -9.71510118e-01, -2.44478204e-01,\n",
       "       -1.67768504e+00, -3.16279598e-01, -9.38693426e-01,  1.17330780e+00,\n",
       "       -4.53102351e-01, -2.96801671e-01,  8.84314944e-02, -1.31921742e+00,\n",
       "       -1.76723102e+00,  4.65340764e-01,  1.01353669e+00,  9.37985998e-01,\n",
       "        1.55310604e+00,  2.19279650e-02, -6.71960128e-03,  1.50220597e-01,\n",
       "       -1.67576884e+00,  1.07734300e-01,  8.86334341e-02,  2.93710599e-01,\n",
       "       -6.99559983e-01,  9.57238426e-01,  3.46194053e-01, -1.02688239e+00,\n",
       "        6.93575986e-01, -1.02184707e-01,  4.79794260e-01,  1.06188870e+00,\n",
       "       -1.01720617e+00, -1.39304261e+00, -1.22110552e+00, -7.02495793e-02,\n",
       "       -4.43592989e-01, -2.40720937e-01, -7.47524254e-01, -2.84665631e-01,\n",
       "       -3.57043920e-01, -6.87441760e-01,  9.00937745e-01,  4.53614598e-01,\n",
       "        1.20320008e+00, -1.04150504e+00, -4.90212194e-01, -2.14751797e-01,\n",
       "        7.79632581e-01,  1.71926207e+00,  4.33897724e-01, -8.48800546e-01,\n",
       "       -7.10837563e-01,  9.69401350e-02,  1.31293082e+00, -3.80879472e-02,\n",
       "        2.10201405e+00,  1.18464464e+00, -2.25592511e-01, -1.26678358e+00,\n",
       "        5.32958278e-01, -2.53082483e-01,  9.77678647e-01,  1.92346319e+00,\n",
       "        5.77400601e-01, -1.86749405e-01,  4.33374928e-01, -1.67097324e-01,\n",
       "        3.12165453e-01,  2.65925108e-02, -9.86294284e-01, -2.63155433e+00,\n",
       "        4.37904909e-01, -1.23416925e+00,  1.42953324e+00, -1.56957432e-01,\n",
       "       -8.98541139e-01, -9.70567384e-02, -2.03071119e-01, -2.97857270e-01,\n",
       "       -8.06090589e-01, -8.22941341e-01, -1.19056937e+00, -3.41011887e-01,\n",
       "        5.79092043e-01,  1.79830747e-01,  7.72597543e-02,  1.40728227e-01,\n",
       "       -1.98566339e+00,  4.74841458e-01,  5.40342028e-01,  3.45155997e-01,\n",
       "       -4.43044329e-01, -6.29760906e-02,  1.66381660e-02,  3.32326619e-01,\n",
       "        1.59374944e+00,  4.55666100e-01, -9.73667358e-01, -8.39989625e-01,\n",
       "       -1.01270937e+00, -2.66917831e-01,  1.67892004e-01,  1.81858678e+00,\n",
       "        7.55460581e-01,  1.99688566e-01, -1.73582368e-01, -5.70055909e-01,\n",
       "       -1.14036896e+00,  1.61675109e+00, -1.66773392e+00, -4.92745339e-01,\n",
       "       -1.10829070e+00,  2.38523410e-01, -1.02899946e+00, -1.18593736e+00,\n",
       "        8.28629564e-01, -1.08198102e+00, -1.13464256e+00,  4.77490042e-01,\n",
       "       -2.30161967e-02,  7.39065046e-01,  1.13507883e+00, -1.78285589e-01,\n",
       "        2.08900092e-01,  5.39193944e-01,  1.13606784e+00,  9.09939106e-01,\n",
       "        2.45517533e+00, -4.42582243e-01, -4.99530669e-01,  1.86567437e-01,\n",
       "       -2.81931341e-01, -2.32668260e+00,  3.51841985e-02,  5.25801619e-01,\n",
       "       -1.71149807e-01,  2.61178928e-01,  6.16906285e-01,  1.62843035e+00,\n",
       "        5.45687822e-01, -5.10900463e-01, -1.43352168e+00,  1.29121965e+00,\n",
       "       -1.20530077e+00, -2.35921682e+00, -3.28611039e-01, -1.72892174e-01,\n",
       "        8.24424261e-01, -8.23807938e-01,  1.36754376e+00,  4.37283593e-01,\n",
       "       -3.78977382e-01, -4.18182180e-01, -3.48843656e-01, -3.28366549e-01,\n",
       "       -7.29103285e-01, -1.17913537e+00, -7.72499740e-01, -1.81904094e-01,\n",
       "       -4.56695320e-01, -1.27428195e+00,  1.29049248e+00, -8.03846635e-01,\n",
       "       -1.78027970e-01,  1.28884350e+00, -1.19505057e-03, -3.02200544e-02,\n",
       "        2.39928641e-01,  4.94383009e-02, -1.11030338e+00,  2.33067100e-01,\n",
       "        5.12542242e-01,  1.47876190e-01, -3.64971631e-01,  2.35186201e-01,\n",
       "        7.88471460e-01, -9.03125912e-01, -3.90193040e-01,  5.82115483e-01,\n",
       "       -6.23454596e-01,  5.11718518e-01, -1.04212625e+00,  1.60718403e+00,\n",
       "       -1.56285408e+00, -2.27759065e+00, -1.75628014e+00, -1.19121996e+00,\n",
       "        4.79391670e-01,  5.52564706e-02,  3.51651157e-01, -1.17092680e-01,\n",
       "        8.35109527e-01,  4.13077342e-01, -8.52850355e-01, -6.42770444e-01,\n",
       "       -4.77431838e-01, -6.87132283e-01,  7.23146249e-01,  6.33314755e-02,\n",
       "        1.02336418e+00,  4.62134850e-01, -1.98783978e-01, -1.23752038e-01,\n",
       "        1.29181857e+00, -3.90693277e-01,  1.20780900e-01, -1.87036896e-01,\n",
       "        2.65272703e-01, -1.40153535e-01,  2.77576185e-01, -1.04713359e+00,\n",
       "        2.28813538e-01,  1.84584661e+00, -5.45102419e-01,  1.87318256e+00,\n",
       "       -1.45639488e+00, -4.40292318e-01,  3.47863307e-01,  8.13898465e-01,\n",
       "       -2.61452020e-01,  3.96868442e-01, -2.49260684e-01, -1.53220238e+00,\n",
       "       -6.03968839e-01, -1.06592393e+00, -2.03218839e-02,  2.56640626e-01,\n",
       "        1.75030413e+00, -9.88130951e-01, -8.04955394e-01,  1.60885620e+00,\n",
       "       -2.45931836e-01,  9.21935260e-01,  1.56105092e+00, -7.71836417e-02,\n",
       "        8.59443011e-01, -4.62616437e-01, -2.42807220e-01,  1.63090143e+00,\n",
       "        1.18722186e+00,  3.04028788e-01,  6.43038890e-01, -6.10039528e-01,\n",
       "        6.50070195e-01,  1.70197867e+00,  1.86941569e+00,  1.00534896e+00,\n",
       "       -2.35036557e-01,  1.53025659e+00, -2.22149785e-01,  5.83862873e-01,\n",
       "       -4.04231927e-01,  3.10595099e-01, -8.98050561e-02,  3.87751697e-01,\n",
       "       -1.13137469e+00, -8.92777180e-01,  7.59374593e-01,  1.28283818e+00,\n",
       "       -6.07719469e-01,  2.94859713e-01, -1.52488214e+00, -1.51114647e+00,\n",
       "       -4.88606674e-01,  2.37156563e-01,  7.32019297e-01, -1.38485615e+00,\n",
       "        8.24543218e-01, -5.43499706e-04,  6.94322935e-01,  9.33039843e-02,\n",
       "       -4.62755064e-01, -1.41461414e+00, -7.18009209e-01,  1.60557958e+00,\n",
       "        7.50308756e-01,  1.01783250e+00, -1.63443558e+00, -1.48487879e+00,\n",
       "       -5.35857055e-02, -1.34726743e+00,  3.01217135e-01, -1.11501710e+00])"
      ]
     },
     "execution_count": 74,
     "metadata": {},
     "output_type": "execute_result"
    }
   ],
   "source": [
    "x = np.random.normal(size=1000)\n",
    "x"
   ]
  },
  {
   "cell_type": "code",
   "execution_count": 75,
   "metadata": {},
   "outputs": [
    {
     "data": {
      "text/plain": [
       "(array([  3.,  20.,  62., 178., 260., 274., 130.,  65.,   6.,   2.]),\n",
       " array([-3.45018252, -2.73017009, -2.01015767, -1.29014524, -0.57013282,\n",
       "         0.14987961,  0.86989203,  1.58990446,  2.30991688,  3.02992931,\n",
       "         3.74994173]),\n",
       " <a list of 10 Patch objects>)"
      ]
     },
     "execution_count": 75,
     "metadata": {},
     "output_type": "execute_result"
    },
    {
     "data": {
      "image/png": "[encoded data removed]",
      "text/plain": [
       "<Figure size 432x288 with 1 Axes>"
      ]
     },
     "metadata": {
      "needs_background": "light"
     },
     "output_type": "display_data"
    }
   ],
   "source": [
    "plt.hist(x)"
   ]
  },
  {
   "cell_type": "code",
   "execution_count": 76,
   "metadata": {},
   "outputs": [
    {
     "name": "stderr",
     "output_type": "stream",
     "text": [
      "/home/codebox/anaconda3/lib/python3.7/site-packages/ipykernel_launcher.py:1: MatplotlibDeprecationWarning: \n",
      "The 'normed' kwarg was deprecated in Matplotlib 2.1 and will be removed in 3.1. Use 'density' instead.\n",
      "  \"\"\"Entry point for launching an IPython kernel.\n"
     ]
    },
    {
     "data": {
      "text/plain": [
       "(array([0.00416659, 0.0277773 , 0.08610963, 0.24721796, 0.36110488,\n",
       "        0.38054899, 0.18055244, 0.09027622, 0.00833319, 0.00277773]),\n",
       " array([-3.45018252, -2.73017009, -2.01015767, -1.29014524, -0.57013282,\n",
       "         0.14987961,  0.86989203,  1.58990446,  2.30991688,  3.02992931,\n",
       "         3.74994173]),\n",
       " <a list of 10 Patch objects>)"
      ]
     },
     "execution_count": 76,
     "metadata": {},
     "output_type": "execute_result"
    },
    {
     "data": {
      "image/png": "[encoded data removed]",
      "text/plain": [
       "<Figure size 432x288 with 1 Axes>"
      ]
     },
     "metadata": {
      "needs_background": "light"
     },
     "output_type": "display_data"
    }
   ],
   "source": [
    "plt.hist(x,normed=True)"
   ]
  },
  {
   "cell_type": "code",
   "execution_count": 77,
   "metadata": {},
   "outputs": [
    {
     "name": "stderr",
     "output_type": "stream",
     "text": [
      "/home/codebox/anaconda3/lib/python3.7/site-packages/ipykernel_launcher.py:1: MatplotlibDeprecationWarning: \n",
      "The 'normed' kwarg was deprecated in Matplotlib 2.1 and will be removed in 3.1. Use 'density' instead.\n",
      "  \"\"\"Entry point for launching an IPython kernel.\n"
     ]
    },
    {
     "data": {
      "text/plain": [
       "(array([0.   , 0.   , 0.   , 0.004, 0.014, 0.028, 0.074, 0.194, 0.246,\n",
       "        0.392, 0.408, 0.294, 0.18 , 0.118, 0.04 , 0.004, 0.002, 0.002,\n",
       "        0.   , 0.   ]),\n",
       " array([-5. , -4.5, -4. , -3.5, -3. , -2.5, -2. , -1.5, -1. , -0.5,  0. ,\n",
       "         0.5,  1. ,  1.5,  2. ,  2.5,  3. ,  3.5,  4. ,  4.5,  5. ]),\n",
       " <a list of 20 Patch objects>)"
      ]
     },
     "execution_count": 77,
     "metadata": {},
     "output_type": "execute_result"
    },
    {
     "data": {
      "image/png": "[encoded data removed]",
      "text/plain": [
       "<Figure size 432x288 with 1 Axes>"
      ]
     },
     "metadata": {
      "needs_background": "light"
     },
     "output_type": "display_data"
    }
   ],
   "source": [
    "plt.hist(x,normed=True,bins=np.linspace(-5,5,21))"
   ]
  },
  {
   "cell_type": "code",
   "execution_count": 79,
   "metadata": {},
   "outputs": [
    {
     "data": {
      "text/plain": [
       "(array([8.6580e+03, 1.7076e+04, 1.7357e+04, 1.5066e+04, 1.1880e+04,\n",
       "        8.9010e+03, 6.4180e+03, 4.7400e+03, 3.1950e+03, 2.2190e+03,\n",
       "        1.4520e+03, 1.0310e+03, 6.8600e+02, 4.2900e+02, 3.2400e+02,\n",
       "        1.9400e+02, 1.2600e+02, 7.9000e+01, 6.5000e+01, 4.0000e+01,\n",
       "        2.0000e+01, 1.9000e+01, 9.0000e+00, 4.0000e+00, 4.0000e+00,\n",
       "        4.0000e+00, 1.0000e+00, 1.0000e+00, 1.0000e+00, 1.0000e+00]),\n",
       " array([8.53349998e-03, 1.46954860e+00, 2.93056371e+00, 4.39157881e+00,\n",
       "        5.85259392e+00, 7.31360902e+00, 8.77462412e+00, 1.02356392e+01,\n",
       "        1.16966543e+01, 1.31576694e+01, 1.46186845e+01, 1.60796996e+01,\n",
       "        1.75407147e+01, 1.90017299e+01, 2.04627450e+01, 2.19237601e+01,\n",
       "        2.33847752e+01, 2.48457903e+01, 2.63068054e+01, 2.77678205e+01,\n",
       "        2.92288356e+01, 3.06898507e+01, 3.21508658e+01, 3.36118809e+01,\n",
       "        3.50728960e+01, 3.65339111e+01, 3.79949262e+01, 3.94559413e+01,\n",
       "        4.09169564e+01, 4.23779715e+01, 4.38389866e+01]),\n",
       " <a list of 30 Patch objects>)"
      ]
     },
     "execution_count": 79,
     "metadata": {},
     "output_type": "execute_result"
    },
    {
     "data": {
      "image/png": "[encoded data removed]",
      "text/plain": [
       "<Figure size 432x288 with 1 Axes>"
      ]
     },
     "metadata": {
      "needs_background": "light"
     },
     "output_type": "display_data"
    }
   ],
   "source": [
    "x = np.random.gamma(2,3,100000)\n",
    "plt.hist(x,bins=30)"
   ]
  },
  {
   "cell_type": "code",
   "execution_count": 80,
   "metadata": {},
   "outputs": [
    {
     "name": "stderr",
     "output_type": "stream",
     "text": [
      "/home/codebox/anaconda3/lib/python3.7/site-packages/ipykernel_launcher.py:1: MatplotlibDeprecationWarning: \n",
      "The 'normed' kwarg was deprecated in Matplotlib 2.1 and will be removed in 3.1. Use 'density' instead.\n",
      "  \"\"\"Entry point for launching an IPython kernel.\n"
     ]
    },
    {
     "data": {
      "text/plain": [
       "(array([5.92601676e-02, 1.16877642e-01, 1.18800962e-01, 1.03120084e-01,\n",
       "        8.13133277e-02, 6.09233948e-02, 4.39283617e-02, 3.24431964e-02,\n",
       "        2.18683571e-02, 1.51880702e-02, 9.93829561e-03, 7.05673745e-03,\n",
       "        4.69536556e-03, 2.93631461e-03, 2.21763621e-03, 1.32784390e-03,\n",
       "        8.62414082e-04, 5.40719940e-04, 4.44896153e-04, 2.73782248e-04,\n",
       "        1.36891124e-04, 1.30046568e-04, 6.16010059e-05, 2.73782248e-05,\n",
       "        2.73782248e-05, 2.73782248e-05, 6.84455621e-06, 6.84455621e-06,\n",
       "        6.84455621e-06, 6.84455621e-06]),\n",
       " array([8.53349998e-03, 1.46954860e+00, 2.93056371e+00, 4.39157881e+00,\n",
       "        5.85259392e+00, 7.31360902e+00, 8.77462412e+00, 1.02356392e+01,\n",
       "        1.16966543e+01, 1.31576694e+01, 1.46186845e+01, 1.60796996e+01,\n",
       "        1.75407147e+01, 1.90017299e+01, 2.04627450e+01, 2.19237601e+01,\n",
       "        2.33847752e+01, 2.48457903e+01, 2.63068054e+01, 2.77678205e+01,\n",
       "        2.92288356e+01, 3.06898507e+01, 3.21508658e+01, 3.36118809e+01,\n",
       "        3.50728960e+01, 3.65339111e+01, 3.79949262e+01, 3.94559413e+01,\n",
       "        4.09169564e+01, 4.23779715e+01, 4.38389866e+01]),\n",
       " <a list of 30 Patch objects>)"
      ]
     },
     "execution_count": 80,
     "metadata": {},
     "output_type": "execute_result"
    },
    {
     "data": {
      "image/png": "[encoded data removed]",
      "text/plain": [
       "<Figure size 432x288 with 1 Axes>"
      ]
     },
     "metadata": {
      "needs_background": "light"
     },
     "output_type": "display_data"
    }
   ],
   "source": [
    "plt.hist(x,bins=30,normed=True)"
   ]
  },
  {
   "cell_type": "code",
   "execution_count": 81,
   "metadata": {},
   "outputs": [
    {
     "data": {
      "text/plain": [
       "(array([ 43091.,  78938.,  93291.,  97993.,  99432.,  99831.,  99956.,\n",
       "         99988.,  99997., 100000.]),\n",
       " array([8.53349998e-03, 4.39157881e+00, 8.77462412e+00, 1.31576694e+01,\n",
       "        1.75407147e+01, 2.19237601e+01, 2.63068054e+01, 3.06898507e+01,\n",
       "        3.50728960e+01, 3.94559413e+01, 4.38389866e+01]),\n",
       " <a list of 10 Patch objects>)"
      ]
     },
     "execution_count": 81,
     "metadata": {},
     "output_type": "execute_result"
    },
    {
     "data": {
      "image/png": "[encoded data removed]",
      "text/plain": [
       "<Figure size 432x288 with 1 Axes>"
      ]
     },
     "metadata": {
      "needs_background": "light"
     },
     "output_type": "display_data"
    }
   ],
   "source": [
    "plt.hist(x,cumulative=True)"
   ]
  },
  {
   "cell_type": "code",
   "execution_count": 83,
   "metadata": {},
   "outputs": [
    {
     "name": "stderr",
     "output_type": "stream",
     "text": [
      "/home/codebox/anaconda3/lib/python3.7/site-packages/ipykernel_launcher.py:1: MatplotlibDeprecationWarning: \n",
      "The 'normed' kwarg was deprecated in Matplotlib 2.1 and will be removed in 3.1. Use 'density' instead.\n",
      "  \"\"\"Entry point for launching an IPython kernel.\n"
     ]
    },
    {
     "data": {
      "text/plain": [
       "(array([0.08658, 0.25734, 0.43091, 0.58157, 0.70037, 0.78938, 0.85356,\n",
       "        0.90096, 0.93291, 0.9551 , 0.96962, 0.97993, 0.98679, 0.99108,\n",
       "        0.99432, 0.99626, 0.99752, 0.99831, 0.99896, 0.99936, 0.99956,\n",
       "        0.99975, 0.99984, 0.99988, 0.99992, 0.99996, 0.99997, 0.99998,\n",
       "        0.99999, 1.     ]),\n",
       " array([8.53349998e-03, 1.46954860e+00, 2.93056371e+00, 4.39157881e+00,\n",
       "        5.85259392e+00, 7.31360902e+00, 8.77462412e+00, 1.02356392e+01,\n",
       "        1.16966543e+01, 1.31576694e+01, 1.46186845e+01, 1.60796996e+01,\n",
       "        1.75407147e+01, 1.90017299e+01, 2.04627450e+01, 2.19237601e+01,\n",
       "        2.33847752e+01, 2.48457903e+01, 2.63068054e+01, 2.77678205e+01,\n",
       "        2.92288356e+01, 3.06898507e+01, 3.21508658e+01, 3.36118809e+01,\n",
       "        3.50728960e+01, 3.65339111e+01, 3.79949262e+01, 3.94559413e+01,\n",
       "        4.09169564e+01, 4.23779715e+01, 4.38389866e+01]),\n",
       " <a list of 1 Patch objects>)"
      ]
     },
     "execution_count": 83,
     "metadata": {},
     "output_type": "execute_result"
    },
    {
     "data": {
      "image/png": "[encoded data removed]",
      "text/plain": [
       "<Figure size 432x288 with 1 Axes>"
      ]
     },
     "metadata": {
      "needs_background": "light"
     },
     "output_type": "display_data"
    }
   ],
   "source": [
    "plt.hist(x,bins=30, normed=True, cumulative=True, histtype=\"step\")"
   ]
  },
  {
   "cell_type": "code",
   "execution_count": 85,
   "metadata": {},
   "outputs": [
    {
     "name": "stderr",
     "output_type": "stream",
     "text": [
      "/home/codebox/anaconda3/lib/python3.7/site-packages/ipykernel_launcher.py:5: MatplotlibDeprecationWarning: \n",
      "The 'normed' kwarg was deprecated in Matplotlib 2.1 and will be removed in 3.1. Use 'density' instead.\n",
      "  \"\"\"\n",
      "/home/codebox/anaconda3/lib/python3.7/site-packages/ipykernel_launcher.py:9: MatplotlibDeprecationWarning: \n",
      "The 'normed' kwarg was deprecated in Matplotlib 2.1 and will be removed in 3.1. Use 'density' instead.\n",
      "  if __name__ == '__main__':\n"
     ]
    },
    {
     "data": {
      "text/plain": [
       "(array([0.08658, 0.25734, 0.43091, 0.58157, 0.70037, 0.78938, 0.85356,\n",
       "        0.90096, 0.93291, 0.9551 , 0.96962, 0.97993, 0.98679, 0.99108,\n",
       "        0.99432, 0.99626, 0.99752, 0.99831, 0.99896, 0.99936, 0.99956,\n",
       "        0.99975, 0.99984, 0.99988, 0.99992, 0.99996, 0.99997, 0.99998,\n",
       "        0.99999, 1.     ]),\n",
       " array([8.53349998e-03, 1.46954860e+00, 2.93056371e+00, 4.39157881e+00,\n",
       "        5.85259392e+00, 7.31360902e+00, 8.77462412e+00, 1.02356392e+01,\n",
       "        1.16966543e+01, 1.31576694e+01, 1.46186845e+01, 1.60796996e+01,\n",
       "        1.75407147e+01, 1.90017299e+01, 2.04627450e+01, 2.19237601e+01,\n",
       "        2.33847752e+01, 2.48457903e+01, 2.63068054e+01, 2.77678205e+01,\n",
       "        2.92288356e+01, 3.06898507e+01, 3.21508658e+01, 3.36118809e+01,\n",
       "        3.50728960e+01, 3.65339111e+01, 3.79949262e+01, 3.94559413e+01,\n",
       "        4.09169564e+01, 4.23779715e+01, 4.38389866e+01]),\n",
       " <a list of 1 Patch objects>)"
      ]
     },
     "execution_count": 85,
     "metadata": {},
     "output_type": "execute_result"
    },
    {
     "data": {
      "image/png": "[encoded data removed]",
      "text/plain": [
       "<Figure size 432x288 with 4 Axes>"
      ]
     },
     "metadata": {
      "needs_background": "light"
     },
     "output_type": "display_data"
    }
   ],
   "source": [
    "plt.figure()\n",
    "plt.subplot(221)\n",
    "plt.hist(x,bins=30)\n",
    "plt.subplot(222)\n",
    "plt.hist(x,bins=30,normed=True)\n",
    "plt.subplot(223)\n",
    "plt.hist(x,bins=30,cumulative=30)\n",
    "plt.subplot(224)\n",
    "plt.hist(x,bins=30,normed=True,cumulative=True,histtype=\"step\")"
   ]
  },
  {
   "cell_type": "code",
   "execution_count": null,
   "metadata": {},
   "outputs": [],
   "source": []
  }
 ],
 "metadata": {
  "kernelspec": {
   "display_name": "Python 3",
   "language": "python",
   "name": "python3"
  },
  "language_info": {
   "codemirror_mode": {
    "name": "ipython",
    "version": 3
   },
   "file_extension": ".py",
   "mimetype": "text/x-python",
   "name": "python",
   "nbconvert_exporter": "python",
   "pygments_lexer": "ipython3",
   "version": "3.7.6"
  }
 },
 "nbformat": 4,
 "nbformat_minor": 4
}
